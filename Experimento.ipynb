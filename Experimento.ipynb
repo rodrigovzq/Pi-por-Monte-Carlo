{
 "cells": [
  {
   "cell_type": "markdown",
   "metadata": {},
   "source": [
    "# $\\pi$ por Monte Carlo"
   ]
  },
  {
   "cell_type": "markdown",
   "metadata": {},
   "source": [
    "Se generan dos superficies, un cuadrado de lado unitario y un circulo de diametro unitario. Se generaran muestras aleatorias dentro del cuadrado y se discriminaran las muestras que caigan dentro del circulo. A traves de la probabilidad dada por las areas de las figuras geometricas deberia ser posible despejar $\\pi$ dado que la probabilidad es aproximada a traves del Teorema de Lagrange"
   ]
  },
  {
   "cell_type": "code",
   "execution_count": 1,
   "metadata": {},
   "outputs": [],
   "source": [
    "import numpy as np\n",
    "from matplotlib import pyplot as plt"
   ]
  },
  {
   "cell_type": "code",
   "execution_count": 2,
   "metadata": {},
   "outputs": [],
   "source": [
    "def distancia(x,y):\n",
    "    return np.sqrt(x**2+y**2)\n",
    "\n",
    "def dentro_circulo(punto):\n",
    "    if distancia(float(punto[0]),float(punto[1]))<0.5:\n",
    "        return True\n",
    "    else:\n",
    "        return False\n",
    "    \n",
    "def genera_muestras(n):\n",
    "    m=[]\n",
    "    for i in range(n):\n",
    "        m.append(np.random.rand(2,1) -0.5)\n",
    "    return m"
   ]
  },
  {
   "cell_type": "code",
   "execution_count": null,
   "metadata": {},
   "outputs": [],
   "source": [
    "n = 100000000\n",
    "dentro=0\n",
    "puntos =genera_muestras(n)\n",
    "for i in range(n):\n",
    "    if dentro_circulo(puntos[i]):\n",
    "        dentro=dentro+1\n",
    "print(\"pi=\",4*dentro/n)\n",
    "    \n"
   ]
  }
 ],
 "metadata": {
  "kernelspec": {
   "display_name": "Python 3",
   "language": "python",
   "name": "python3"
  },
  "language_info": {
   "codemirror_mode": {
    "name": "ipython",
    "version": 3
   },
   "file_extension": ".py",
   "mimetype": "text/x-python",
   "name": "python",
   "nbconvert_exporter": "python",
   "pygments_lexer": "ipython3",
   "version": "3.6.6+"
  }
 },
 "nbformat": 4,
 "nbformat_minor": 2
}
